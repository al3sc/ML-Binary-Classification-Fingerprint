{
 "cells": [
  {
   "cell_type": "markdown",
   "metadata": {},
   "source": [
    "# 2 Data Visualizaiton"
   ]
  },
  {
   "cell_type": "code",
   "execution_count": 4,
   "metadata": {},
   "outputs": [],
   "source": [
    "import utils.project_module as pm\n",
    "import utils.plot as P\n",
    "from utils.logger import Logger\n",
    "\n",
    "# Initialize logger\n",
    "logger = Logger(\"Data_Visualization\")"
   ]
  },
  {
   "cell_type": "code",
   "execution_count": 5,
   "metadata": {},
   "outputs": [],
   "source": [
    "inputFile = './input/trainData.txt'\n",
    "\n",
    "logIsActive = True\n",
    "save_plots = True\n",
    "\n",
    "D, L = pm.load(inputFile)\n",
    "\n",
    "D0 = D[:, L==0]\n",
    "D1 = D[:, L==1]"
   ]
  },
  {
   "cell_type": "code",
   "execution_count": 4,
   "metadata": {},
   "outputs": [],
   "source": [
    "logger.__close__()"
   ]
  },
  {
   "cell_type": "markdown",
   "metadata": {},
   "source": [
    "## Histogram and pair-wise scatter plots"
   ]
  },
  {
   "cell_type": "code",
   "execution_count": null,
   "metadata": {},
   "outputs": [],
   "source": [
    "hFea = {\n",
    "        0: 'Feature 1',\n",
    "        1: 'Feature 2',\n",
    "        2: 'Feature 3',\n",
    "        3: 'Feature 4',\n",
    "        4: 'Feature 5',\n",
    "        5: 'Feature 6'\n",
    "    }\n",
    "\n",
    "for dIdx, f in hFea.items():\n",
    "    P.plot_hist(D0[dIdx, :], D1[dIdx, :], \"Data visualization\", f, \"Relative frequency\", \"Fake\", \"Genuine\", save_disk=save_plots, output_dir=\"./outputs/L2\", output_name=f\"hist_{dIdx}\")\n",
    "\n",
    "for dIdx1, f1 in hFea.items():\n",
    "    for dIdx2, f2 in hFea.items():\n",
    "        if dIdx1 != dIdx2:\n",
    "            F0 = [D0[dIdx1, :], D0[dIdx2, :]]\n",
    "            F1 = [D1[dIdx1, :], D1[dIdx2, :]]\n",
    "            P.plot_scatter_2_classes(F0, F1, \"Data visualization\", f1, f2, \"Fake\", \"Genuine\", save_disk=save_plots, output_dir=\"./outputs/L2\", output_name=f\"scatter_{dIdx1+1}_{dIdx2+1}\")"
   ]
  },
  {
   "cell_type": "markdown",
   "metadata": {},
   "source": [
    "## Dataset statistics"
   ]
  },
  {
   "cell_type": "code",
   "execution_count": null,
   "metadata": {},
   "outputs": [],
   "source": [
    "mu = D.mean(1).reshape((D.shape[0], 1))\n",
    "DC = D - mu\n",
    "\n",
    "C = ((D - mu) @ (D - mu).T) / float(D.shape[1])\n",
    "\n",
    "var = D.var(1)\n",
    "std = D.std(1)\n",
    "\n",
    "if logIsActive:\n",
    "    logger.log_title(\"Comparing features statistics.\")\n",
    "    logger.log_paragraph(\"Means of the features:\")\n",
    "    for i, m in enumerate(mu):\n",
    "        logger.log(f\"Feature {i+1}: {m}\")\n",
    "    logger.log()\n",
    "\n",
    "    logger.log_paragraph(\"Covariance matrix:\")\n",
    "    for row in C:\n",
    "        logger.log(row)\n",
    "    logger.log()\n",
    "    \n",
    "    logger.log_paragraph(\"Variances of the features:\")\n",
    "    for i, v in enumerate(var):\n",
    "        logger.log(f\"Feature {i+1}: {v}\")\n",
    "    logger.log()\n",
    "\n",
    "    logger.log_paragraph(\"Standard deviation of the features:\")\n",
    "    for i, s in enumerate(std):\n",
    "        logger.log(f\"Feature {i+1}: {s}\")\n",
    "    logger.log()"
   ]
  },
  {
   "cell_type": "markdown",
   "metadata": {},
   "source": [
    "## Per-class statistics"
   ]
  },
  {
   "cell_type": "code",
   "execution_count": 11,
   "metadata": {},
   "outputs": [],
   "source": [
    "for cls in [0,1]:\n",
    "    DCls = D[:, L==cls]\n",
    "    mu = DCls.mean(1).reshape(DCls.shape[0], 1)\n",
    "    C = ((DCls - mu) @ (DCls - mu).T) / float(DCls.shape[1])\n",
    "    var = DCls.var(1)\n",
    "    std = DCls.std(1)\n",
    "\n",
    "    if logIsActive:\n",
    "        logger.log_title(f\"Comparing features statistics of class {cls} ({'Fake' if cls == 0 else 'Genuine'}).\")\n",
    "        logger.log_paragraph(\"Means of the features:\")\n",
    "        for i, m in enumerate(mu):\n",
    "            logger.log(f\"Feature {i+1}: {m}\")\n",
    "        logger.log()\n",
    "\n",
    "        logger.log_paragraph(\"Covariance matrix:\")\n",
    "        for row in C:\n",
    "            logger.log(row)\n",
    "        logger.log()\n",
    "        \n",
    "        logger.log_paragraph(\"Variances of the features:\")\n",
    "        for i, v in enumerate(var):\n",
    "            logger.log(f\"Feature {i+1}: {v}\")\n",
    "        logger.log()\n",
    "\n",
    "        logger.log_paragraph(\"Standard deviation of the features:\")\n",
    "        for i, s in enumerate(std):\n",
    "            logger.log(f\"Feature {i+1}: {s}\")\n",
    "        logger.log()"
   ]
  }
 ],
 "metadata": {
  "kernelspec": {
   "display_name": "Python 3",
   "language": "python",
   "name": "python3"
  },
  "language_info": {
   "codemirror_mode": {
    "name": "ipython",
    "version": 3
   },
   "file_extension": ".py",
   "mimetype": "text/x-python",
   "name": "python",
   "nbconvert_exporter": "python",
   "pygments_lexer": "ipython3",
   "version": "3.12.2"
  }
 },
 "nbformat": 4,
 "nbformat_minor": 2
}
